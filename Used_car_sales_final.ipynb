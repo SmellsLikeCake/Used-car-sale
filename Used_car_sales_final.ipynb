{
 "cells": [
  {
   "cell_type": "code",
   "execution_count": 1,
   "metadata": {},
   "outputs": [],
   "source": [
    "import pandas as pd\n",
    "import numpy as np\n",
    "import matplotlib.pyplot as plt\n",
    "import seaborn as sns\n",
    "import math\n",
    "from matplotlib.mlab import PCA as mlabPCA\n",
    "from sklearn.preprocessing import StandardScaler\n",
    "from sklearn.decomposition import PCA\n",
    "%matplotlib inline"
   ]
  },
  {
   "cell_type": "markdown",
   "metadata": {},
   "source": [
    "Data comes from Kaggle: https://www.kaggle.com/irfanazeem/used-cars-sale-price"
   ]
  },
  {
   "cell_type": "code",
   "execution_count": 2,
   "metadata": {},
   "outputs": [],
   "source": [
    "sales = pd.read_csv('car_train.csv')\n",
    "sales_select = sales.loc[:, ['price', 'economy', 'odometer', 'year', 'model', 'colour']]\n",
    "sales_select_nona = sales_select.dropna()"
   ]
  },
  {
   "cell_type": "markdown",
   "metadata": {},
   "source": [
    "## Clean the data\n",
    "\n",
    "The dataset is very large (38k rows). Dropping NAs could bias the data (perhaps older or more unreliable cars are more likely to have missing data?) and potentially this should be investigated in more detail. However, for the purposes of this exercise feature selection is more important. "
   ]
  },
  {
   "cell_type": "code",
   "execution_count": 3,
   "metadata": {},
   "outputs": [
    {
     "name": "stderr",
     "output_type": "stream",
     "text": [
      "/usr/local/lib/python3.7/site-packages/pandas/core/indexing.py:543: SettingWithCopyWarning: \n",
      "A value is trying to be set on a copy of a slice from a DataFrame.\n",
      "Try using .loc[row_indexer,col_indexer] = value instead\n",
      "\n",
      "See the caveats in the documentation: http://pandas.pydata.org/pandas-docs/stable/indexing.html#indexing-view-versus-copy\n",
      "  self.obj[item] = s\n"
     ]
    },
    {
     "data": {
      "text/plain": [
       "White     8845\n",
       "Silver    7140\n",
       "Grey      5379\n",
       "Blue      3990\n",
       "Black     3509\n",
       "Red       2053\n",
       "Other     1891\n",
       "Name: colour, dtype: int64"
      ]
     },
     "execution_count": 3,
     "metadata": {},
     "output_type": "execute_result"
    }
   ],
   "source": [
    "# Clean colour\n",
    "normal_colours = ['White', 'Silver', 'Grey', 'Blue', 'Black', 'Red']\n",
    "sales_select_nona.loc[~sales_select_nona.colour.isin(normal_colours), 'colour' ] = 'Other'\n",
    "sales_select_nona.colour.value_counts()"
   ]
  },
  {
   "cell_type": "code",
   "execution_count": 4,
   "metadata": {},
   "outputs": [
    {
     "data": {
      "text/plain": [
       "Forester    12163\n",
       "RAV4        10403\n",
       "Impreza     10241\n",
       "Name: model, dtype: int64"
      ]
     },
     "execution_count": 4,
     "metadata": {},
     "output_type": "execute_result"
    }
   ],
   "source": [
    "## Check models are clean\n",
    "\n",
    "sales_select_nona.model.value_counts()"
   ]
  },
  {
   "cell_type": "code",
   "execution_count": null,
   "metadata": {},
   "outputs": [],
   "source": [
    "sales_select_num = sales_select_nona.loc[:, ['price', 'economy', 'odometer', 'year']]"
   ]
  },
  {
   "cell_type": "code",
   "execution_count": null,
   "metadata": {},
   "outputs": [],
   "source": [
    "## Look for numeric outliers\n",
    "\n",
    "sales_select_num = sales_select_nona.loc[:, ['price', 'economy', 'odometer', 'year']]\n",
    "g= sns.PairGrid(sales_select_num, diag_sharey=False)\n",
    "g.map_upper(plt.scatter, alpha=.5)\n",
    "g.map_lower(sns.regplot, scatter_kws=dict(alpha=0))\n",
    "g.map_diag(sns.kdeplot, lw=3)\n",
    "plt.show()"
   ]
  },
  {
   "cell_type": "code",
   "execution_count": null,
   "metadata": {},
   "outputs": [],
   "source": [
    "## Price - outliers above $80,000\n",
    "\n",
    "sales_select_nona.loc[sales_select_nona.price > 80000,]"
   ]
  },
  {
   "cell_type": "code",
   "execution_count": null,
   "metadata": {},
   "outputs": [],
   "source": [
    "## Four cars are over $80,000 and all are over $110,000.\n",
    "## Brand new Imprezas cost under $20k, and RAV4s cost $25k.\n",
    "## Potentially decimal point issue but unclear so will remove.\n",
    "\n",
    "sales_select_nona = sales_select_nona.loc[sales_select_nona.price < 100000,]"
   ]
  },
  {
   "cell_type": "code",
   "execution_count": null,
   "metadata": {},
   "outputs": [],
   "source": [
    "## Odometer - outliers over 400,000 miles.\n",
    "\n",
    "sales_select_nona.loc[sales_select_nona.odometer > 400000,]"
   ]
  },
  {
   "cell_type": "code",
   "execution_count": null,
   "metadata": {},
   "outputs": [],
   "source": [
    "## Removing the two with over 1 million miles.\n",
    "\n",
    "sales_select_nona = sales_select_nona.loc[sales_select_nona.odometer < 1000000,]"
   ]
  },
  {
   "cell_type": "code",
   "execution_count": null,
   "metadata": {},
   "outputs": [],
   "source": [
    "## Replot pairplots\n",
    "\n",
    "sales_select_num = sales_select_nona.loc[:, ['price', 'economy', 'odometer', 'year']]\n",
    "g= sns.PairGrid(sales_select_num, diag_sharey=False)\n",
    "g.map_upper(plt.scatter, alpha=.5)\n",
    "g.map_lower(sns.regplot, scatter_kws=dict(alpha=0))\n",
    "g.map_diag(sns.kdeplot, lw=3)\n",
    "plt.show()"
   ]
  },
  {
   "cell_type": "code",
   "execution_count": null,
   "metadata": {},
   "outputs": [],
   "source": [
    "## Change df name to shorter one\n",
    "\n",
    "ssn = sales_select_nona"
   ]
  },
  {
   "cell_type": "markdown",
   "metadata": {},
   "source": [
    "## Univariate explorations"
   ]
  },
  {
   "cell_type": "code",
   "execution_count": null,
   "metadata": {},
   "outputs": [],
   "source": [
    "## Continuous variables\n",
    "\n",
    "ssn.describe()"
   ]
  },
  {
   "cell_type": "code",
   "execution_count": null,
   "metadata": {},
   "outputs": [],
   "source": [
    "## Categorical variables\n",
    "\n",
    "ssn.describe(include='object')"
   ]
  },
  {
   "cell_type": "code",
   "execution_count": null,
   "metadata": {},
   "outputs": [],
   "source": [
    "## Plot continuous variable histograms\n",
    "\n",
    "ssn_num = ssn.loc[:, ['price', 'economy', 'odometer', 'year']]\n",
    "ssn_num_long = pd.melt(ssn_num)\n",
    "ssn_num_long.head()\n",
    "\n",
    "g = sns.FacetGrid(ssn_num_long, col='variable', col_wrap=2,\n",
    "                 sharex=False,\n",
    "                 sharey=False)\n",
    "g.map(plt.hist, 'value')\n",
    "plt.show()"
   ]
  },
  {
   "cell_type": "code",
   "execution_count": null,
   "metadata": {},
   "outputs": [],
   "source": [
    "ssn_cat = ssn.loc[:, ['model', 'colour']]\n",
    "ssn_model_counts = ssn_cat.model.value_counts().to_frame().reset_index()\n",
    "ssn_model_counts.head()"
   ]
  },
  {
   "cell_type": "code",
   "execution_count": null,
   "metadata": {},
   "outputs": [],
   "source": [
    "## Plot model barplot\n",
    "\n",
    "g = sns.barplot(x='model', y='index', data=ssn_model_counts)\n",
    "g.set_xlabel('Number in dataset')\n",
    "g.set_ylabel('Car model')\n",
    "plt.show()"
   ]
  },
  {
   "cell_type": "code",
   "execution_count": null,
   "metadata": {},
   "outputs": [],
   "source": [
    "## Arrange car colours for plot\n",
    "\n",
    "ssn_colour_counts = ssn_cat.colour.value_counts().to_frame().reset_index()\n",
    "car_colours = ssn_colour_counts['index'].tolist()\n",
    "car_colours_lower = list(map(lambda x: x.lower(), car_colours))\n",
    "\n",
    "## Adjust for visibility\n",
    "\n",
    "adjust_colours = {\n",
    "    'white': 'whitesmoke',\n",
    "    'other': 'hotpink'\n",
    "}\n",
    "\n",
    "car_colours_palette = [adjust_colours.get(item, item) for item in car_colours_lower]"
   ]
  },
  {
   "cell_type": "code",
   "execution_count": null,
   "metadata": {},
   "outputs": [],
   "source": [
    "## Car colours plot\n",
    "\n",
    "g = sns.barplot(x='colour', y='index', data=ssn_colour_counts,\n",
    "               palette=car_colours_palette)\n",
    "g.set_xlabel('Number in dataset')\n",
    "g.set_ylabel('Car colour')\n",
    "plt.show()"
   ]
  },
  {
   "cell_type": "markdown",
   "metadata": {},
   "source": [
    "## Bivariate explorations\n",
    "\n",
    "The pairplot was already considered when cleaning the data but is replotted here for completeness."
   ]
  },
  {
   "cell_type": "code",
   "execution_count": null,
   "metadata": {},
   "outputs": [],
   "source": [
    "g= sns.PairGrid(ssn_num, diag_sharey=False)\n",
    "g.map_upper(plt.scatter, alpha=.5)\n",
    "g.map_lower(sns.regplot, scatter_kws=dict(alpha=0))\n",
    "g.map_diag(sns.kdeplot, lw=3)\n",
    "plt.show()"
   ]
  },
  {
   "cell_type": "code",
   "execution_count": null,
   "metadata": {},
   "outputs": [],
   "source": [
    "## Model versus colour\n",
    "\n",
    "ssn_model_colour = ssn.groupby(['model', 'colour']).count().reset_index()\n",
    "ssn_model_colour = ssn_model_colour.loc[:, ['model', 'colour', 'price']]\n",
    "ssn_model_colour.columns = ['model', 'colour', 'count']\n",
    "\n",
    "sns.set(style='whitegrid')\n",
    "\n",
    "g = sns.FacetGrid(ssn_model_colour, col='model')\n",
    "g.map(sns.barplot,'count', 'colour', order=car_colours,\n",
    "     palette=car_colours_palette)\n",
    "plt.show()"
   ]
  },
  {
   "cell_type": "code",
   "execution_count": null,
   "metadata": {},
   "outputs": [],
   "source": [
    "## Model versus continuous variables\n",
    "\n",
    "ssn_model_long = pd.melt(ssn.loc[:, ['model', 'price', 'economy', 'odometer', 'year']], id_vars='model')\n",
    "\n",
    "sns.set(style='white')\n",
    "g = sns.FacetGrid(ssn_model_long, col='variable', col_wrap=2,\n",
    "                 sharey=False)\n",
    "g.map(sns.boxplot, 'model', 'value', order=['Forester', 'Impreza', 'RAV4'])\n",
    "plt.show()"
   ]
  },
  {
   "cell_type": "code",
   "execution_count": null,
   "metadata": {
    "scrolled": true
   },
   "outputs": [],
   "source": [
    "ssn.groupby('model').describe().T"
   ]
  },
  {
   "cell_type": "code",
   "execution_count": null,
   "metadata": {},
   "outputs": [],
   "source": [
    "## Colour versus continous variables\n",
    "## Could remove highest odometer values so charts not squashed?\n",
    "\n",
    "ssn_colour_long = pd.melt(ssn.loc[:, ['colour', 'price', 'economy', 'odometer', 'year']], id_vars='colour')\n",
    "\n",
    "g = sns.FacetGrid(ssn_colour_long, row='variable', aspect=4, sharey=False)\n",
    "g.map(sns.violinplot, 'colour', 'value', order=car_colours,\n",
    "     palette=car_colours_palette)\n",
    "plt.show()"
   ]
  },
  {
   "cell_type": "markdown",
   "metadata": {},
   "source": [
    "## Feature selection"
   ]
  },
  {
   "cell_type": "code",
   "execution_count": null,
   "metadata": {},
   "outputs": [],
   "source": [
    "features = pd.concat([pd.get_dummies(ssn['model']), pd.get_dummies(ssn['colour'])], axis=1)\n",
    "features.head()"
   ]
  },
  {
   "cell_type": "code",
   "execution_count": null,
   "metadata": {},
   "outputs": [],
   "source": [
    "## Above average mileage\n",
    "## Average mileage is around 15,000 per year\n",
    "\n",
    "ssn_mileage = ssn.copy()\n",
    "ssn_mileage['age'] = 2019 - ssn_mileage['year']\n",
    "ssn_mileage['exp_mileage'] = ssn_mileage['age'] * 15000\n",
    "ssn_mileage['mileage_status'] = np.where(ssn_mileage['exp_mileage'] > ssn_mileage['odometer'], 'below average', 'above average')\n",
    "features['above_av_mileage'] = np.where(ssn_mileage.mileage_status == 'above average', 1, 0)\n",
    "features.head()"
   ]
  },
  {
   "cell_type": "code",
   "execution_count": null,
   "metadata": {},
   "outputs": [],
   "source": [
    "## Year, economy and odometer are a bit correlated - use PCA\n",
    "\n",
    "ssn_yeo = ssn.loc[:, ['year', 'economy', 'odometer']]\n",
    "\n",
    "ssn_yeo_X = StandardScaler().fit_transform(ssn_yeo)\n",
    "\n",
    "sklearn_pca = PCA(n_components=3) # Specify number of components you want out.\n",
    "Y_sklearn = sklearn_pca.fit_transform(ssn_yeo_X)\n",
    "\n",
    "sklearn_pca.explained_variance_ratio_"
   ]
  },
  {
   "cell_type": "code",
   "execution_count": null,
   "metadata": {},
   "outputs": [],
   "source": [
    "## Use first component only\n",
    "\n",
    "features['pca_yeo'] = Y_sklearn[:, 0]\n",
    "features.head()"
   ]
  },
  {
   "cell_type": "code",
   "execution_count": null,
   "metadata": {},
   "outputs": [],
   "source": [
    "## Year is not a particularly normal looking variable - try transform\n",
    "\n",
    "fig = plt.figure()\n",
    "\n",
    "fig.add_subplot(221)\n",
    "plt.hist(ssn['year'])\n",
    "plt.title('Raw')\n",
    "\n",
    "fig.add_subplot(222)\n",
    "plt.hist(np.log(ssn['year']))\n",
    "plt.title('Log')\n",
    "\n",
    "fig.add_subplot(223)\n",
    "plt.hist(np.sqrt(ssn['year']))\n",
    "plt.title('Sqrt')\n",
    "\n",
    "fig.add_subplot(224)\n",
    "plt.hist(1/(ssn['year']))\n",
    "plt.title('Inverse')\n",
    "\n",
    "plt.tight_layout()\n",
    "plt.show()"
   ]
  },
  {
   "cell_type": "code",
   "execution_count": null,
   "metadata": {},
   "outputs": [],
   "source": [
    "## None were good. Try age of car instead of year\n",
    "\n",
    "fig = plt.figure()\n",
    "\n",
    "fig.add_subplot(221)\n",
    "plt.hist(ssn_mileage['age'], bins=15)\n",
    "plt.title('Raw')\n",
    "\n",
    "fig.add_subplot(222)\n",
    "plt.hist(np.log(ssn_mileage['age']), bins=15)\n",
    "plt.title('Log')\n",
    "\n",
    "fig.add_subplot(223)\n",
    "plt.hist(np.sqrt(ssn_mileage['age']), bins=15)\n",
    "plt.title('Sqrt')\n",
    "\n",
    "fig.add_subplot(224)\n",
    "plt.hist(1/(ssn_mileage['age']), bins=15)\n",
    "plt.title('Inverse')\n",
    "\n",
    "plt.tight_layout()\n",
    "plt.show()"
   ]
  },
  {
   "cell_type": "code",
   "execution_count": null,
   "metadata": {},
   "outputs": [],
   "source": [
    "## Not much better but perhaps square root looks most normal?\n",
    "\n",
    "features['sqrt_age'] = np.sqrt(ssn_mileage['age'])\n",
    "features.head()"
   ]
  },
  {
   "cell_type": "code",
   "execution_count": null,
   "metadata": {},
   "outputs": [],
   "source": [
    "## Odometer is non normal\n",
    "## Add 1 to remove zero problems\n",
    "\n",
    "fig = plt.figure()\n",
    "\n",
    "fig.add_subplot(221)\n",
    "plt.hist(ssn['odometer']+1)\n",
    "plt.title('Raw')\n",
    "\n",
    "fig.add_subplot(222)\n",
    "plt.hist(np.log(ssn['odometer']+1))\n",
    "plt.title('Log')\n",
    "\n",
    "fig.add_subplot(223)\n",
    "plt.hist(np.sqrt(ssn['odometer']+1))\n",
    "plt.title('Sqrt')\n",
    "\n",
    "fig.add_subplot(224)\n",
    "plt.hist(1/(ssn['odometer']+1))\n",
    "plt.title('Inverse')\n",
    "\n",
    "plt.tight_layout()\n",
    "plt.show()"
   ]
  },
  {
   "cell_type": "code",
   "execution_count": null,
   "metadata": {},
   "outputs": [],
   "source": [
    "features['sqrt_odometer'] = np.sqrt(ssn['odometer'] +1)"
   ]
  },
  {
   "cell_type": "code",
   "execution_count": null,
   "metadata": {},
   "outputs": [],
   "source": [
    "## Higher order relationships\n",
    "\n",
    "sns.regplot(\n",
    "    ssn_mileage['economy'],\n",
    "    ssn_mileage['age'],\n",
    "    order=3,\n",
    "    scatter_kws={'alpha':0.3},\n",
    "    line_kws={'color':'black'},\n",
    "    ci=None\n",
    ")\n",
    "plt.show()"
   ]
  },
  {
   "cell_type": "code",
   "execution_count": null,
   "metadata": {},
   "outputs": [],
   "source": [
    "features['economy_cubed'] = ssn['economy']**3\n",
    "features.head()"
   ]
  },
  {
   "cell_type": "markdown",
   "metadata": {},
   "source": [
    "## Filtering"
   ]
  },
  {
   "cell_type": "code",
   "execution_count": null,
   "metadata": {},
   "outputs": [],
   "source": [
    "features['price'] = ssn['price']\n",
    "features_corr = features.corr()\n",
    "sns.heatmap(features_corr, cmap='PRGn', center=0)\n",
    "plt.show()"
   ]
  },
  {
   "cell_type": "code",
   "execution_count": null,
   "metadata": {},
   "outputs": [],
   "source": [
    "features_corr.price"
   ]
  },
  {
   "cell_type": "code",
   "execution_count": null,
   "metadata": {},
   "outputs": [],
   "source": [
    "## RAV4, Black, Blue, Grey, Other, Red and White all have \n",
    "## under abs(0.1) correlation with price so remove as pretty useless.\n",
    "\n",
    "features_select = features.loc[:, ['Forester', 'Impreza', 'Silver', 'above_av_mileage', 'pca_yeo', 'sqrt_age', 'sqrt_odometer', 'economy_cubed']]\n",
    "features_variance = features_select.apply(lambda x: np.var(x))\n",
    "features_variance"
   ]
  },
  {
   "cell_type": "code",
   "execution_count": null,
   "metadata": {},
   "outputs": [],
   "source": [
    "## sqrt_odometer and economy_cubed are much larger than the others\n",
    "## simply as a result of the scales on which the variables are on."
   ]
  },
  {
   "cell_type": "code",
   "execution_count": null,
   "metadata": {},
   "outputs": [],
   "source": []
  }
 ],
 "metadata": {
  "kernelspec": {
   "display_name": "Python 3",
   "language": "python",
   "name": "python3"
  },
  "language_info": {
   "codemirror_mode": {
    "name": "ipython",
    "version": 3
   },
   "file_extension": ".py",
   "mimetype": "text/x-python",
   "name": "python",
   "nbconvert_exporter": "python",
   "pygments_lexer": "ipython3",
   "version": "3.7.2"
  }
 },
 "nbformat": 4,
 "nbformat_minor": 2
}
